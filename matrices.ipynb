{
  "nbformat": 4,
  "nbformat_minor": 0,
  "metadata": {
    "colab": {
      "provenance": [],
      "authorship_tag": "ABX9TyOqkvUyrjiC5ULWZTBIZSPG",
      "include_colab_link": true
    },
    "kernelspec": {
      "name": "python3",
      "display_name": "Python 3"
    },
    "language_info": {
      "name": "python"
    }
  },
  "cells": [
    {
      "cell_type": "markdown",
      "metadata": {
        "id": "view-in-github",
        "colab_type": "text"
      },
      "source": [
        "<a href=\"https://colab.research.google.com/github/Khushmit-sonar/essestial_math_forAIML_python/blob/main/matrices.ipynb\" target=\"_parent\"><img src=\"https://colab.research.google.com/assets/colab-badge.svg\" alt=\"Open In Colab\"/></a>"
      ]
    },
    {
      "cell_type": "code",
      "execution_count": 1,
      "metadata": {
        "id": "-qfJqG8j5LPY",
        "colab": {
          "base_uri": "https://localhost:8080/"
        },
        "outputId": "a40661b8-5f15-4c05-af70-1878c04481cb"
      },
      "outputs": [
        {
          "output_type": "stream",
          "name": "stdout",
          "text": [
            "[[1 2]\n",
            " [2 3]\n",
            " [3 4]]\n"
          ]
        }
      ],
      "source": [
        "import numpy as np\n",
        "#Define 3*2 matrices\n",
        "p = np.array([[1,2],[2,3],[3,4]])\n",
        "print(p)"
      ]
    },
    {
      "cell_type": "code",
      "source": [
        "q = np.array([[1,-1],[2,5],[-2,3]])\n",
        "print(q)"
      ],
      "metadata": {
        "colab": {
          "base_uri": "https://localhost:8080/"
        },
        "id": "HYB7uN2C6E-h",
        "outputId": "f07fa45b-5d89-4af1-d0b2-00f16d46f975"
      },
      "execution_count": 7,
      "outputs": [
        {
          "output_type": "stream",
          "name": "stdout",
          "text": [
            "[[ 1 -1]\n",
            " [ 2  5]\n",
            " [-2  3]]\n"
          ]
        }
      ]
    },
    {
      "cell_type": "code",
      "source": [
        "#Adding two matrices\n",
        "c1 = np.add(p,q)\n",
        "print(c1)"
      ],
      "metadata": {
        "colab": {
          "base_uri": "https://localhost:8080/"
        },
        "id": "oi4bDyP06g1v",
        "outputId": "39e58af1-61a5-4494-d91e-4da680f39845"
      },
      "execution_count": 6,
      "outputs": [
        {
          "output_type": "stream",
          "name": "stdout",
          "text": [
            "[[2 1]\n",
            " [4 8]\n",
            " [1 7]]\n"
          ]
        }
      ]
    },
    {
      "cell_type": "code",
      "source": [
        "#substraction of two matrices\n",
        "c2 = np.subtract(p,q)\n",
        "print(c2)"
      ],
      "metadata": {
        "colab": {
          "base_uri": "https://localhost:8080/"
        },
        "id": "5064amMM7FmQ",
        "outputId": "cbfb097a-890f-4ec5-cfeb-8e60e2a39367"
      },
      "execution_count": 10,
      "outputs": [
        {
          "output_type": "stream",
          "name": "stdout",
          "text": [
            "[[ 0  3]\n",
            " [ 0 -2]\n",
            " [ 5  1]]\n"
          ]
        }
      ]
    },
    {
      "cell_type": "code",
      "source": [
        "#multiplication of two matrices\n",
        "#for multiplication we neew 3*2 and 2 * 3 matrices\n",
        "\n",
        "r = np.array([[1,2,3],[1,3,2]])\n",
        "print(r)"
      ],
      "metadata": {
        "colab": {
          "base_uri": "https://localhost:8080/"
        },
        "id": "DSmPmepy7dai",
        "outputId": "458176fa-94aa-40cc-86e7-c8c1d743331e"
      },
      "execution_count": 11,
      "outputs": [
        {
          "output_type": "stream",
          "name": "stdout",
          "text": [
            "[[1 2 3]\n",
            " [1 3 2]]\n"
          ]
        }
      ]
    },
    {
      "cell_type": "code",
      "source": [
        "#multiplication of q and r matrices\n",
        "\n",
        "c3 = np.dot(q,r)\n",
        "print(c3)"
      ],
      "metadata": {
        "colab": {
          "base_uri": "https://localhost:8080/"
        },
        "id": "vvW-efWR8YN6",
        "outputId": "ba0a4d6d-5e74-4174-a9a0-e864aa17fdf5"
      },
      "execution_count": 13,
      "outputs": [
        {
          "output_type": "stream",
          "name": "stdout",
          "text": [
            "[[ 0 -1  1]\n",
            " [ 7 19 16]\n",
            " [ 1  5  0]]\n"
          ]
        }
      ]
    },
    {
      "cell_type": "code",
      "source": [
        "#inverser of m matrices\n",
        "m = np.array([[1,-1],[2,3]])\n",
        "print(np.linalg.inv(m))"
      ],
      "metadata": {
        "colab": {
          "base_uri": "https://localhost:8080/"
        },
        "id": "5vxyrRXP9BVZ",
        "outputId": "233a40da-e00f-4db0-ccb1-87b3788c5b8f"
      },
      "execution_count": 14,
      "outputs": [
        {
          "output_type": "stream",
          "name": "stdout",
          "text": [
            "[[ 0.6  0.2]\n",
            " [-0.4  0.2]]\n"
          ]
        }
      ]
    }
  ]
}