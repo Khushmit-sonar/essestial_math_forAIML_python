{
  "nbformat": 4,
  "nbformat_minor": 0,
  "metadata": {
    "colab": {
      "provenance": [],
      "authorship_tag": "ABX9TyPOf3wJ8dfQSrBZG+wejpFa",
      "include_colab_link": true
    },
    "kernelspec": {
      "name": "python3",
      "display_name": "Python 3"
    },
    "language_info": {
      "name": "python"
    }
  },
  "cells": [
    {
      "cell_type": "markdown",
      "metadata": {
        "id": "view-in-github",
        "colab_type": "text"
      },
      "source": [
        "<a href=\"https://colab.research.google.com/github/Khushmit-sonar/essestial_math_forAIML_python/blob/main/vector1.ipynb\" target=\"_parent\"><img src=\"https://colab.research.google.com/assets/colab-badge.svg\" alt=\"Open In Colab\"/></a>"
      ]
    },
    {
      "cell_type": "code",
      "execution_count": null,
      "metadata": {
        "id": "CYAxx_9M1FaB"
      },
      "outputs": [],
      "source": [
        "import numpy as np\n",
        "v = np.array([1,-1,2])\n",
        "w = np.array([2,5,2])"
      ]
    },
    {
      "cell_type": "code",
      "source": [
        "#addition and substrtion of vectors\n",
        "print(v+w)\n",
        "print(v-w)"
      ],
      "metadata": {
        "colab": {
          "base_uri": "https://localhost:8080/"
        },
        "id": "fi8VbhvP4qQr",
        "outputId": "deb8a8e4-d8e6-445f-fa4b-9f789cf04d7c"
      },
      "execution_count": null,
      "outputs": [
        {
          "output_type": "stream",
          "name": "stdout",
          "text": [
            "[3 4 4]\n",
            "[-1 -6  0]\n"
          ]
        }
      ]
    },
    {
      "cell_type": "code",
      "source": [
        "#scaler multiplication of vectors\n",
        "print(3*w)"
      ],
      "metadata": {
        "colab": {
          "base_uri": "https://localhost:8080/"
        },
        "id": "1TDG_ewj45a7",
        "outputId": "f35f07f6-816c-4386-f89b-c00300dcc13d"
      },
      "execution_count": null,
      "outputs": [
        {
          "output_type": "stream",
          "name": "stdout",
          "text": [
            "[ 6 15  6]\n"
          ]
        }
      ]
    },
    {
      "cell_type": "code",
      "source": [
        "#find the length of vector\n",
        "print(np.linalg.norm(v))"
      ],
      "metadata": {
        "colab": {
          "base_uri": "https://localhost:8080/"
        },
        "id": "OHUGalr35NRK",
        "outputId": "6c37f69b-2d01-4655-f7cf-ee9e359fa859"
      },
      "execution_count": null,
      "outputs": [
        {
          "output_type": "stream",
          "name": "stdout",
          "text": [
            "2.449489742783178\n"
          ]
        }
      ]
    },
    {
      "cell_type": "code",
      "source": [
        "#dot product of vectors\n",
        "s=np.dot(v,w)\n",
        "print(s)"
      ],
      "metadata": {
        "colab": {
          "base_uri": "https://localhost:8080/"
        },
        "id": "q64SkPJd5ryR",
        "outputId": "c0ba6964-95be-48df-f992-5ef69adc73d9"
      },
      "execution_count": null,
      "outputs": [
        {
          "output_type": "stream",
          "name": "stdout",
          "text": [
            "1\n"
          ]
        }
      ]
    }
  ]
}